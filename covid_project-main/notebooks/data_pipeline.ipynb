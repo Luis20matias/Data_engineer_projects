{
 "cells": [
  {
   "cell_type": "code",
   "execution_count": 1,
   "id": "7d37dd2f-23e4-4be0-aba8-4f5c367f5893",
   "metadata": {},
   "outputs": [],
   "source": [
    "%load_ext autoreload\n",
    "%autoreload 2"
   ]
  },
  {
   "cell_type": "code",
   "execution_count": 2,
   "id": "dfb53709-eff6-483e-a8d4-fbec6fa5f662",
   "metadata": {},
   "outputs": [],
   "source": [
    "import os\n",
    "import sys\n",
    "\n",
    "import pandas as pd\n",
    "\n",
    "#sys.path.append(os.path.join('..', os.path.abspath('')))\n",
    "sys.path.append(os.path.abspath(os.path.join(os.path.dirname('covid'), os.path.pardir)))"
   ]
  },
  {
   "cell_type": "markdown",
   "id": "19d39bb6-65b5-4202-b2b4-03e2ee1c09f2",
   "metadata": {},
   "source": [
    "# Ingestion stage"
   ]
  },
  {
   "cell_type": "markdown",
   "id": "4437f141-cd69-44ae-97d9-b3eade66e247",
   "metadata": {},
   "source": [
    "## Upload the population table separately"
   ]
  },
  {
   "cell_type": "code",
   "execution_count": 23,
   "id": "1f218416-5e7c-4005-962e-2ca7019819b3",
   "metadata": {},
   "outputs": [
    {
     "name": "stderr",
     "output_type": "stream",
     "text": [
      "2022-05-13 09:09:15,583 - Snowflake Connector for Python Version: 2.7.7, Python Version: 3.9.0, Platform: Linux-5.15.0-27-generic-x86_64-with-glibc2.35\n",
      "2022-05-13 09:09:15,584 - This connection is in OCSP Fail Open Mode. TLS Certificates would be checked for validity and revocation status. Any other Certificate Revocation related exceptions or OCSP Responder failures would be disregarded in favor of connectivity.\n",
      "2022-05-13 09:09:16,406 - query: [create temporary stage /* Python:snowflake.connector.pandas_tools.write_pandas()...]\n",
      "2022-05-13 09:09:16,618 - query execution done\n",
      "2022-05-13 09:09:16,630 - query: [PUT /* Python:snowflake.connector.pandas_tools.write_pandas() */ 'file:///tmp/tm...]\n",
      "2022-05-13 09:09:16,915 - query execution done\n",
      "2022-05-13 09:09:18,406 - query: [COPY INTO \"POPULATION_RAW\" /* Python:snowflake.connector.pandas_tools.write_pand...]\n",
      "2022-05-13 09:09:19,736 - query execution done\n",
      "2022-05-13 09:09:19,738 - query: [COMMIT]\n",
      "2022-05-13 09:09:20,202 - query execution done\n",
      "2022-05-13 09:09:20,204 - closed\n",
      "2022-05-13 09:09:20,332 - No async queries seem to be running, deleting session\n"
     ]
    },
    {
     "data": {
      "text/plain": [
       "True"
      ]
     },
     "execution_count": 23,
     "metadata": {},
     "output_type": "execute_result"
    }
   ],
   "source": [
    "from covid.connector import snowflake_con\n",
    "from snowflake.connector.pandas_tools import write_pandas\n",
    "\n",
    "with snowflake_con.create_connector(schema='INGESTION_SCHEMA') as con:\n",
    "    df = pd.read_csv(\"Total_population.csv\")\n",
    "    success, nchunks, nrows, _ = write_pandas(\n",
    "        con,\n",
    "        df,\n",
    "        'POPULATION_RAW',\n",
    "        quote_identifiers=True\n",
    "    )\n",
    "success"
   ]
  },
  {
   "cell_type": "code",
   "execution_count": 4,
   "id": "f6508486-46b1-47f0-b103-7f7f349b298d",
   "metadata": {},
   "outputs": [],
   "source": [
    "from covid.ingestion import IngestionStage\n",
    "link_list = [\"https://covid19.who.int/WHO-COVID-19-global-data.csv\",\n",
    "             \"https://covid19.who.int/who-data/vaccination-data.csv\",\n",
    "             \"https://covid19.who.int/who-data/vaccination-metadata.csv\"\n",
    "]\n",
    "ingestion =  IngestionStage()"
   ]
  },
  {
   "cell_type": "code",
   "execution_count": 5,
   "id": "fe1d6bab-727d-4421-bf9b-2dbe9f7943a8",
   "metadata": {},
   "outputs": [
    {
     "name": "stderr",
     "output_type": "stream",
     "text": [
      "2022-05-13 08:33:33,605 - Starting Ingestion stage\n",
      "2022-05-13 08:33:33,606 - Extraction...\n",
      "2022-05-13 08:33:36,903 - Load...\n",
      "2022-05-13 08:33:36,904 - Snowflake Connector for Python Version: 2.7.7, Python Version: 3.9.0, Platform: Linux-5.15.0-27-generic-x86_64-with-glibc2.35\n",
      "2022-05-13 08:33:36,905 - This connection is in OCSP Fail Open Mode. TLS Certificates would be checked for validity and revocation status. Any other Certificate Revocation related exceptions or OCSP Responder failures would be disregarded in favor of connectivity.\n",
      "2022-05-13 08:33:36,905 - Setting use_openssl_only mode to False\n",
      "2022-05-13 08:33:38,352 - query: [create temporary stage /* Python:snowflake.connector.pandas_tools.write_pandas()...]\n",
      "2022-05-13 08:33:38,616 - query execution done\n",
      "2022-05-13 08:33:38,804 - query: [PUT /* Python:snowflake.connector.pandas_tools.write_pandas() */ 'file:///tmp/tm...]\n",
      "2022-05-13 08:33:39,133 - query execution done\n",
      "2022-05-13 08:33:40,992 - query: [COPY INTO GLOBAL_RAW /* Python:snowflake.connector.pandas_tools.write_pandas() *...]\n",
      "2022-05-13 08:33:42,927 - query execution done\n",
      "2022-05-13 08:33:42,937 - query: [create temporary stage /* Python:snowflake.connector.pandas_tools.write_pandas()...]\n",
      "2022-05-13 08:33:43,246 - query execution done\n",
      "2022-05-13 08:33:43,281 - query: [PUT /* Python:snowflake.connector.pandas_tools.write_pandas() */ 'file:///tmp/tm...]\n",
      "2022-05-13 08:33:43,609 - query execution done\n",
      "2022-05-13 08:33:44,232 - query: [COPY INTO VACCINE_RAW /* Python:snowflake.connector.pandas_tools.write_pandas() ...]\n",
      "2022-05-13 08:33:45,796 - query execution done\n",
      "2022-05-13 08:33:45,806 - query: [create temporary stage /* Python:snowflake.connector.pandas_tools.write_pandas()...]\n",
      "2022-05-13 08:33:46,072 - query execution done\n",
      "2022-05-13 08:33:46,084 - query: [PUT /* Python:snowflake.connector.pandas_tools.write_pandas() */ 'file:///tmp/tm...]\n",
      "2022-05-13 08:33:46,410 - query execution done\n",
      "2022-05-13 08:33:46,926 - query: [COPY INTO VACCINE_META_RAW /* Python:snowflake.connector.pandas_tools.write_pand...]\n",
      "2022-05-13 08:33:47,831 - query execution done\n",
      "2022-05-13 08:33:47,833 - query: [COMMIT]\n",
      "2022-05-13 08:33:48,757 - query execution done\n",
      "2022-05-13 08:33:48,759 - closed\n",
      "2022-05-13 08:33:48,944 - No async queries seem to be running, deleting session\n",
      "2022-05-13 08:33:49,180 - Ingestion completed\n"
     ]
    }
   ],
   "source": [
    "extract = ingestion.run(link_list)"
   ]
  },
  {
   "cell_type": "markdown",
   "id": "993b8636-69e7-49b8-b635-07305cc7b213",
   "metadata": {},
   "source": [
    "# Preprocessing stage"
   ]
  },
  {
   "cell_type": "code",
   "execution_count": 54,
   "id": "92b45c88-61e3-4daa-a76c-6cd8b17d8545",
   "metadata": {},
   "outputs": [],
   "source": [
    "from covid.preprocessing import PreprocessingStage\n",
    "from covid.connector import snowflake_con\n",
    "from snowflake.connector.pandas_tools import write_pandas\n",
    "import pandas as pd\n",
    "prep =  PreprocessingStage()"
   ]
  },
  {
   "cell_type": "code",
   "execution_count": 51,
   "id": "0769ee9c-e465-4c71-a822-85ac482bd74f",
   "metadata": {},
   "outputs": [
    {
     "name": "stderr",
     "output_type": "stream",
     "text": [
      "2022-05-13 13:31:16,342 - Starting Preprocessing stage\n",
      "2022-05-13 13:31:16,343 - Extraction...\n",
      "2022-05-13 13:31:16,344 - Snowflake Connector for Python Version: 2.7.7, Python Version: 3.9.0, Platform: Linux-5.15.0-27-generic-x86_64-with-glibc2.35\n",
      "2022-05-13 13:31:16,344 - This connection is in OCSP Fail Open Mode. TLS Certificates would be checked for validity and revocation status. Any other Certificate Revocation related exceptions or OCSP Responder failures would be disregarded in favor of connectivity.\n",
      "2022-05-13 13:31:17,430 - query: [ROLLBACK]\n",
      "2022-05-13 13:31:17,607 - query execution done\n",
      "2022-05-13 13:31:17,609 - query: [SELECT * FROM POPULATION_RAW]\n",
      "2022-05-13 13:31:17,926 - query execution done\n",
      "2022-05-13 13:31:17,929 - query: [ROLLBACK]\n",
      "2022-05-13 13:31:18,092 - query execution done\n",
      "2022-05-13 13:31:18,099 - query: [SELECT * FROM GLOBAL_RAW]\n",
      "2022-05-13 13:31:18,403 - query execution done\n",
      "2022-05-13 13:31:20,941 - query: [ROLLBACK]\n",
      "2022-05-13 13:31:21,106 - query execution done\n",
      "2022-05-13 13:31:21,585 - query: [SELECT * FROM VACCINE_RAW]\n",
      "2022-05-13 13:31:21,829 - query execution done\n",
      "2022-05-13 13:31:21,835 - query: [ROLLBACK]\n",
      "2022-05-13 13:31:22,000 - query execution done\n",
      "2022-05-13 13:31:22,008 - query: [SELECT * FROM VACCINE_META_RAW]\n",
      "2022-05-13 13:31:22,241 - query execution done\n",
      "2022-05-13 13:31:22,503 - query: [ROLLBACK]\n",
      "2022-05-13 13:31:22,665 - query execution done\n",
      "2022-05-13 13:31:22,675 - closed\n",
      "2022-05-13 13:31:22,802 - No async queries seem to be running, deleting session\n",
      "2022-05-13 13:31:22,980 - Transformation...\n",
      "2022-05-13 13:31:22,982 - Creating dimension tables\n",
      "2022-05-13 13:31:22,995 - Creating fact tables\n",
      "2022-05-13 13:31:23,838 - Load...\n",
      "2022-05-13 13:31:23,839 - Snowflake Connector for Python Version: 2.7.7, Python Version: 3.9.0, Platform: Linux-5.15.0-27-generic-x86_64-with-glibc2.35\n",
      "2022-05-13 13:31:23,839 - This connection is in OCSP Fail Open Mode. TLS Certificates would be checked for validity and revocation status. Any other Certificate Revocation related exceptions or OCSP Responder failures would be disregarded in favor of connectivity.\n",
      "2022-05-13 13:31:24,490 - query: [create temporary stage /* Python:snowflake.connector.pandas_tools.write_pandas()...]\n",
      "2022-05-13 13:31:24,719 - query execution done\n",
      "2022-05-13 13:31:24,724 - query: [PUT /* Python:snowflake.connector.pandas_tools.write_pandas() */ 'file:///tmp/tm...]\n",
      "2022-05-13 13:31:25,017 - query execution done\n",
      "2022-05-13 13:31:26,125 - query: [COPY INTO POPULATION /* Python:snowflake.connector.pandas_tools.write_pandas() *...]\n",
      "2022-05-13 13:31:27,364 - query execution done\n",
      "2022-05-13 13:31:27,366 - query: [create temporary stage /* Python:snowflake.connector.pandas_tools.write_pandas()...]\n",
      "2022-05-13 13:31:27,605 - query execution done\n",
      "2022-05-13 13:31:27,614 - query: [PUT /* Python:snowflake.connector.pandas_tools.write_pandas() */ 'file:///tmp/tm...]\n",
      "2022-05-13 13:31:27,966 - query execution done\n",
      "2022-05-13 13:31:28,383 - query: [COPY INTO COUNTRY /* Python:snowflake.connector.pandas_tools.write_pandas() */ (...]\n",
      "2022-05-13 13:31:29,195 - query execution done\n",
      "2022-05-13 13:31:29,196 - query: [create temporary stage /* Python:snowflake.connector.pandas_tools.write_pandas()...]\n",
      "2022-05-13 13:31:29,396 - query execution done\n",
      "2022-05-13 13:31:29,411 - query: [PUT /* Python:snowflake.connector.pandas_tools.write_pandas() */ 'file:///tmp/tm...]\n",
      "2022-05-13 13:31:29,706 - query execution done\n",
      "2022-05-13 13:31:30,245 - query: [COPY INTO VACCINE /* Python:snowflake.connector.pandas_tools.write_pandas() */ (...]\n",
      "2022-05-13 13:31:31,445 - query execution done\n",
      "2022-05-13 13:31:31,448 - query: [create temporary stage /* Python:snowflake.connector.pandas_tools.write_pandas()...]\n",
      "2022-05-13 13:31:31,672 - query execution done\n",
      "2022-05-13 13:31:31,856 - query: [PUT /* Python:snowflake.connector.pandas_tools.write_pandas() */ 'file:///tmp/tm...]\n",
      "2022-05-13 13:31:32,149 - query execution done\n",
      "2022-05-13 13:31:33,301 - query: [COPY INTO MEASUREMENTS /* Python:snowflake.connector.pandas_tools.write_pandas()...]\n",
      "2022-05-13 13:31:34,786 - query execution done\n",
      "2022-05-13 13:31:34,787 - query: [COMMIT]\n",
      "2022-05-13 13:31:35,841 - query execution done\n",
      "2022-05-13 13:31:35,843 - closed\n",
      "2022-05-13 13:31:35,981 - No async queries seem to be running, deleting session\n",
      "2022-05-13 13:31:36,153 - Preprocessing completed\n"
     ]
    }
   ],
   "source": [
    "variable_prep = prep.run()"
   ]
  },
  {
   "cell_type": "code",
   "execution_count": 62,
   "id": "4b7bc768-c869-4004-a2c8-334761636b91",
   "metadata": {},
   "outputs": [
    {
     "name": "stderr",
     "output_type": "stream",
     "text": [
      "/home/luis/.pyenv/versions/3.9.0/envs/covid/lib/python3.9/site-packages/IPython/core/interactiveshell.py:3397: UserWarning: Parsing '31/12/2022' in DD/MM/YYYY format. Provide format or specify infer_datetime_format=True for consistent parsing.\n",
      "  exec(code_obj, self.user_global_ns, self.user_ns)\n"
     ]
    }
   ],
   "source": [
    "date = pd.DataFrame({'date':pd.date_range(start='1/1/2018', end='31/12/2022')})\n",
    "date['year'] = pd.DatetimeIndex(date['date']).year\n",
    "date['month'] = pd.DatetimeIndex(date['date']).month\n",
    "date['day'] = pd.DatetimeIndex(date['date']).day\n",
    "date['date_key'] = date['date'].dt.strftime(\"%Y%m%d\")\n",
    "date['date']=date['date'].astype(str)"
   ]
  },
  {
   "cell_type": "code",
   "execution_count": 61,
   "id": "96d0f653-448d-4eeb-9b93-95f6c434424c",
   "metadata": {},
   "outputs": [
    {
     "name": "stderr",
     "output_type": "stream",
     "text": [
      "2022-05-13 14:08:03,982 - Snowflake Connector for Python Version: 2.7.7, Python Version: 3.9.0, Platform: Linux-5.15.0-27-generic-x86_64-with-glibc2.35\n",
      "2022-05-13 14:08:03,983 - This connection is in OCSP Fail Open Mode. TLS Certificates would be checked for validity and revocation status. Any other Certificate Revocation related exceptions or OCSP Responder failures would be disregarded in favor of connectivity.\n",
      "2022-05-13 14:08:04,850 - query: [create temporary stage /* Python:snowflake.connector.pandas_tools.write_pandas()...]\n",
      "2022-05-13 14:08:05,063 - query execution done\n",
      "2022-05-13 14:08:05,067 - query: [PUT /* Python:snowflake.connector.pandas_tools.write_pandas() */ 'file:///tmp/tm...]\n",
      "2022-05-13 14:08:05,366 - query execution done\n",
      "2022-05-13 14:08:06,375 - query: [COPY INTO DATE /* Python:snowflake.connector.pandas_tools.write_pandas() */ (dat...]\n",
      "2022-05-13 14:08:07,228 - query execution done\n",
      "2022-05-13 14:08:07,230 - query: [COMMIT]\n",
      "2022-05-13 14:08:07,669 - query execution done\n",
      "2022-05-13 14:08:07,671 - closed\n",
      "2022-05-13 14:08:07,798 - No async queries seem to be running, deleting session\n"
     ]
    },
    {
     "data": {
      "text/plain": [
       "True"
      ]
     },
     "execution_count": 61,
     "metadata": {},
     "output_type": "execute_result"
    }
   ],
   "source": [
    "with snowflake_con.create_connector(schema='PREPROCESSED_SCHEMA') as con:\n",
    "    success, nchunks, nrows, _ = write_pandas(\n",
    "        con,\n",
    "        date,\n",
    "        'DATE',\n",
    "        quote_identifiers=False\n",
    "    )\n",
    "success"
   ]
  }
 ],
 "metadata": {
  "kernelspec": {
   "display_name": "Python 3 (ipykernel)",
   "language": "python",
   "name": "python3"
  },
  "language_info": {
   "codemirror_mode": {
    "name": "ipython",
    "version": 3
   },
   "file_extension": ".py",
   "mimetype": "text/x-python",
   "name": "python",
   "nbconvert_exporter": "python",
   "pygments_lexer": "ipython3",
   "version": "3.9.0"
  }
 },
 "nbformat": 4,
 "nbformat_minor": 5
}
