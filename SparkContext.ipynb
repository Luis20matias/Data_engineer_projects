{
 "cells": [
  {
   "cell_type": "markdown",
   "id": "7258a0d0-b6af-4627-8233-faab77b4ed33",
   "metadata": {},
   "source": [
    "# Spark Context"
   ]
  },
  {
   "cell_type": "code",
   "execution_count": 4,
   "id": "a7f21039-6725-456c-88d2-94cdf4d79993",
   "metadata": {},
   "outputs": [],
   "source": [
    " import pyspark\n",
    " from pyspark import SparkContext\n",
    " from pyspark.sql import SparkSession, SQLContext"
   ]
  },
  {
   "cell_type": "code",
   "execution_count": 5,
   "id": "27ddd63f-3a4b-4819-830c-ee7f04fb4a1e",
   "metadata": {},
   "outputs": [],
   "source": [
    "conf = pyspark.SparkConf() \\\n",
    "    .setMaster(\"local\") \\\n",
    "    .setAppName(\"My first spark job\") \\\n",
    "    .setAll([(\"spark.driver.memory\", \"40g\"), (\"spark.executer.memory\", \"50g\")])"
   ]
  },
  {
   "cell_type": "code",
   "execution_count": 6,
   "id": "b0710156-a1c2-4047-a73b-f7a5f4269878",
   "metadata": {},
   "outputs": [],
   "source": [
    "sc = SparkContext(conf= conf)"
   ]
  },
  {
   "cell_type": "code",
   "execution_count": 7,
   "id": "4a63beb2-778d-4bcf-bae7-36903db52a7f",
   "metadata": {
    "scrolled": true
   },
   "outputs": [
    {
     "data": {
      "text/html": [
       "\n",
       "        <div>\n",
       "            <p><b>SparkContext</b></p>\n",
       "\n",
       "            <p><a href=\"http://582baf16e794:4040\">Spark UI</a></p>\n",
       "\n",
       "            <dl>\n",
       "              <dt>Version</dt>\n",
       "                <dd><code>v3.5.0</code></dd>\n",
       "              <dt>Master</dt>\n",
       "                <dd><code>local</code></dd>\n",
       "              <dt>AppName</dt>\n",
       "                <dd><code>My first spark job</code></dd>\n",
       "            </dl>\n",
       "        </div>\n",
       "        "
      ],
      "text/plain": [
       "<SparkContext master=local appName=My first spark job>"
      ]
     },
     "execution_count": 7,
     "metadata": {},
     "output_type": "execute_result"
    }
   ],
   "source": [
    "sc"
   ]
  }
 ],
 "metadata": {
  "kernelspec": {
   "display_name": "Python 3 (ipykernel)",
   "language": "python",
   "name": "python3"
  },
  "language_info": {
   "codemirror_mode": {
    "name": "ipython",
    "version": 3
   },
   "file_extension": ".py",
   "mimetype": "text/x-python",
   "name": "python",
   "nbconvert_exporter": "python",
   "pygments_lexer": "ipython3",
   "version": "3.11.5"
  }
 },
 "nbformat": 4,
 "nbformat_minor": 5
}
