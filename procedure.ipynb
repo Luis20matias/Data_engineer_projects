{
 "cells": [
  {
   "cell_type": "code",
   "execution_count": 12,
   "id": "2a26aa6c-dadd-4fb0-8122-54f02d764d9a",
   "metadata": {},
   "outputs": [],
   "source": [
    "from snowflake.snowpark.session import Session\n",
    "from snowflake.snowpark import functions as F\n",
    "from snowflake.snowpark.types import *\n",
    "import pandas as pd\n",
    "import numpy as np\n",
    "from snowflake.snowpark.functions import sproc\n",
    "\n",
    "# lets import some tranformations functions\n",
    "from snowflake.snowpark.functions import udf, col, lit, translate, is_null, iff"
   ]
  },
  {
   "cell_type": "code",
   "execution_count": 10,
   "id": "5de6768b-86f2-45df-8913-3739fa984809",
   "metadata": {},
   "outputs": [
    {
     "name": "stdout",
     "output_type": "stream",
     "text": [
      "(0, 8, 0)\n",
      "[Row(CURRENT_WAREHOUSE()='SP_QS_WH', CURRENT_DATABASE()='PERSONA', CURRENT_SCHEMA()='KAFKA_SCHEMA')]\n"
     ]
    }
   ],
   "source": [
    "from config import snowflake_procedure\n",
    "from snowflake.snowpark import version\n",
    "print(version.VERSION)\n",
    "#session.close()\n",
    "session = Session.builder.configs(snowflake_procedure).create()\n",
    "session.sql(\"use role accountadmin\").collect()\n",
    "session.sql(\"create database if not exists  {}\".format(snowflake_procedure['database'])).collect()\n",
    "session.sql(\"use database {}\".format(snowflake_procedure['database'])).collect()\n",
    "session.sql(\"create schema if not exists {}\".format(snowflake_procedure['schema'])).collect()\n",
    "session.sql(\"use schema {}\".format(snowflake_procedure['schema'])).collect()\n",
    "session.sql(\"create or replace warehouse {} with \\\n",
    "                WAREHOUSE_SIZE = XSMALL \\\n",
    "                AUTO_SUSPEND = 120 \\\n",
    "                AUTO_RESUME = TRUE\".format(snowflake_procedure['warehouse'])).collect()\n",
    "session.sql(\"use warehouse {}\".format(snowflake_procedure['warehouse']))\n",
    "print(session.sql('select current_warehouse(), current_database(), current_schema()').collect())"
   ]
  },
  {
   "cell_type": "code",
   "execution_count": 3,
   "id": "80831da1-856c-47c4-9c0f-83ac0c2057f1",
   "metadata": {},
   "outputs": [],
   "source": [
    "df_kafka = session.table('SQLSAWIN_DBO_PERSONA_1663494945')"
   ]
  },
  {
   "cell_type": "code",
   "execution_count": 5,
   "id": "bac2a8c3-953e-455b-b0c9-eaaea638bfe0",
   "metadata": {},
   "outputs": [
    {
     "name": "stdout",
     "output_type": "stream",
     "text": [
      "-----------------------------------------------------------------------------------------------------------\n",
      "|\"RECORD_METADATA\"                                   |\"RECORD_CONTENT\"                                    |\n",
      "-----------------------------------------------------------------------------------------------------------\n",
      "|{                                                   |{                                                   |\n",
      "|  \"CreateTime\": 1665681402034,                      |  \"payload\": {                                      |\n",
      "|  \"key\": \"{\\\"schema\\\":{\\\"type\\\":\\\"struct\\\",\\\"fi...  |    \"after\": {                                      |\n",
      "|  \"offset\": 6,                                      |      \"id\": 8,                                      |\n",
      "|  \"partition\": 0,                                   |      \"lastname\": \"borges    \",                     |\n",
      "|  \"topic\": \"sqlsawin.dbo.PERSONA\"                   |      \"name\": \"andre     \"                          |\n",
      "|}                                                   |    },                                              |\n",
      "|                                                    |    \"before\": null,                                 |\n",
      "|                                                    |    \"op\": \"r\",                                      |\n",
      "|                                                    |    \"source\": {                                     |\n",
      "|                                                    |      \"change_lsn\": null,                           |\n",
      "|                                                    |      \"commit_lsn\": \"00000033:00006fc8:0001\",       |\n",
      "|                                                    |      \"connector\": \"sqlserver\",                     |\n",
      "|                                                    |      \"db\": \"REPLICATION_END\",                      |\n",
      "|                                                    |      \"event_serial_no\": null,                      |\n",
      "|                                                    |      \"name\": \"sqlsawin\",                           |\n",
      "|                                                    |      \"schema\": \"dbo\",                              |\n",
      "|                                                    |      \"snapshot\": \"true\",                           |\n",
      "|                                                    |      \"table\": \"PERSONA\",                           |\n",
      "|                                                    |      \"ts_ms\": 1665681401719,                       |\n",
      "|                                                    |      \"version\": \"1.0.3.Final\"                      |\n",
      "|                                                    |    },                                              |\n",
      "|                                                    |    \"ts_ms\": 1665681401719                          |\n",
      "|                                                    |  },                                                |\n",
      "|                                                    |  \"schema\": {                                       |\n",
      "|                                                    |    \"fields\": [                                     |\n",
      "|                                                    |      {                                             |\n",
      "|                                                    |        \"field\": \"before\",                          |\n",
      "|                                                    |        \"fields\": [                                 |\n",
      "|                                                    |          {                                         |\n",
      "|                                                    |            \"field\": \"id\",                          |\n",
      "|                                                    |            \"optional\": false,                      |\n",
      "|                                                    |            \"type\": \"int64\"                         |\n",
      "|                                                    |          },                                        |\n",
      "|                                                    |          {                                         |\n",
      "|                                                    |            \"field\": \"name\",                        |\n",
      "|                                                    |            \"optional\": true,                       |\n",
      "|                                                    |            \"type\": \"string\"                        |\n",
      "|                                                    |          },                                        |\n",
      "|                                                    |          {                                         |\n",
      "|                                                    |            \"field\": \"lastname\",                    |\n",
      "|                                                    |            \"optional\": true,                       |\n",
      "|                                                    |            \"type\": \"string\"                        |\n",
      "|                                                    |          }                                         |\n",
      "|                                                    |        ],                                          |\n",
      "|                                                    |        \"name\": \"sqlsawin.dbo.PERSONA.Value\",       |\n",
      "|                                                    |        \"optional\": true,                           |\n",
      "|                                                    |        \"type\": \"struct\"                            |\n",
      "|                                                    |      },                                            |\n",
      "|                                                    |      {                                             |\n",
      "|                                                    |        \"field\": \"after\",                           |\n",
      "|                                                    |        \"fields\": [                                 |\n",
      "|                                                    |          {                                         |\n",
      "|                                                    |            \"field\": \"id\",                          |\n",
      "|                                                    |            \"optional\": false,                      |\n",
      "|                                                    |            \"type\": \"int64\"                         |\n",
      "|                                                    |          },                                        |\n",
      "|                                                    |          {                                         |\n",
      "|                                                    |            \"field\": \"name\",                        |\n",
      "|                                                    |            \"optional\": true,                       |\n",
      "|                                                    |            \"type\": \"string\"                        |\n",
      "|                                                    |          },                                        |\n",
      "|                                                    |          {                                         |\n",
      "|                                                    |            \"field\": \"lastname\",                    |\n",
      "|                                                    |            \"optional\": true,                       |\n",
      "|                                                    |            \"type\": \"string\"                        |\n",
      "|                                                    |          }                                         |\n",
      "|                                                    |        ],                                          |\n",
      "|                                                    |        \"name\": \"sqlsawin.dbo.PERSONA.Value\",       |\n",
      "|                                                    |        \"optional\": true,                           |\n",
      "|                                                    |        \"type\": \"struct\"                            |\n",
      "|                                                    |      },                                            |\n",
      "|                                                    |      {                                             |\n",
      "|                                                    |        \"field\": \"source\",                          |\n",
      "|                                                    |        \"fields\": [                                 |\n",
      "|                                                    |          {                                         |\n",
      "|                                                    |            \"field\": \"version\",                     |\n",
      "|                                                    |            \"optional\": false,                      |\n",
      "|                                                    |            \"type\": \"string\"                        |\n",
      "|                                                    |          },                                        |\n",
      "|                                                    |          {                                         |\n",
      "|                                                    |            \"field\": \"connector\",                   |\n",
      "|                                                    |            \"optional\": false,                      |\n",
      "|                                                    |            \"type\": \"string\"                        |\n",
      "|                                                    |          },                                        |\n",
      "|                                                    |          {                                         |\n",
      "|                                                    |            \"field\": \"name\",                        |\n",
      "|                                                    |            \"optional\": false,                      |\n",
      "|                                                    |            \"type\": \"string\"                        |\n",
      "|                                                    |          },                                        |\n",
      "|                                                    |          {                                         |\n",
      "|                                                    |            \"field\": \"ts_ms\",                       |\n",
      "|                                                    |            \"optional\": false,                      |\n",
      "|                                                    |            \"type\": \"int64\"                         |\n",
      "|                                                    |          },                                        |\n",
      "|                                                    |          {                                         |\n",
      "|                                                    |            \"default\": \"false\",                     |\n",
      "|                                                    |            \"field\": \"snapshot\",                    |\n",
      "|                                                    |            \"name\": \"io.debezium.data.Enum\",        |\n",
      "|                                                    |            \"optional\": true,                       |\n",
      "|                                                    |            \"parameters\": {                         |\n",
      "|                                                    |              \"allowed\": \"true,last,false\"          |\n",
      "|                                                    |            },                                      |\n",
      "|                                                    |            \"type\": \"string\",                       |\n",
      "|                                                    |            \"version\": 1                            |\n",
      "|                                                    |          },                                        |\n",
      "|                                                    |          {                                         |\n",
      "|                                                    |            \"field\": \"db\",                          |\n",
      "|                                                    |            \"optional\": false,                      |\n",
      "|                                                    |            \"type\": \"string\"                        |\n",
      "|                                                    |          },                                        |\n",
      "|                                                    |          {                                         |\n",
      "|                                                    |            \"field\": \"schema\",                      |\n",
      "|                                                    |            \"optional\": false,                      |\n",
      "|                                                    |            \"type\": \"string\"                        |\n",
      "|                                                    |          },                                        |\n",
      "|                                                    |          {                                         |\n",
      "|                                                    |            \"field\": \"table\",                       |\n",
      "|                                                    |            \"optional\": false,                      |\n",
      "|                                                    |            \"type\": \"string\"                        |\n",
      "|                                                    |          },                                        |\n",
      "|                                                    |          {                                         |\n",
      "|                                                    |            \"field\": \"change_lsn\",                  |\n",
      "|                                                    |            \"optional\": true,                       |\n",
      "|                                                    |            \"type\": \"string\"                        |\n",
      "|                                                    |          },                                        |\n",
      "|                                                    |          {                                         |\n",
      "|                                                    |            \"field\": \"commit_lsn\",                  |\n",
      "|                                                    |            \"optional\": true,                       |\n",
      "|                                                    |            \"type\": \"string\"                        |\n",
      "|                                                    |          },                                        |\n",
      "|                                                    |          {                                         |\n",
      "|                                                    |            \"field\": \"event_serial_no\",             |\n",
      "|                                                    |            \"optional\": true,                       |\n",
      "|                                                    |            \"type\": \"int64\"                         |\n",
      "|                                                    |          }                                         |\n",
      "|                                                    |        ],                                          |\n",
      "|                                                    |        \"name\": \"io.debezium.connector.sqlserve...  |\n",
      "|                                                    |        \"optional\": false,                          |\n",
      "|                                                    |        \"type\": \"struct\"                            |\n",
      "|                                                    |      },                                            |\n",
      "|                                                    |      {                                             |\n",
      "|                                                    |        \"field\": \"op\",                              |\n",
      "|                                                    |        \"optional\": false,                          |\n",
      "|                                                    |        \"type\": \"string\"                            |\n",
      "|                                                    |      },                                            |\n",
      "|                                                    |      {                                             |\n",
      "|                                                    |        \"field\": \"ts_ms\",                           |\n",
      "|                                                    |        \"optional\": true,                           |\n",
      "|                                                    |        \"type\": \"int64\"                             |\n",
      "|                                                    |      }                                             |\n",
      "|                                                    |    ],                                              |\n",
      "|                                                    |    \"name\": \"sqlsawin.dbo.PERSONA.Envelope\",        |\n",
      "|                                                    |    \"optional\": false,                              |\n",
      "|                                                    |    \"type\": \"struct\"                                |\n",
      "|                                                    |  }                                                 |\n",
      "|                                                    |}                                                   |\n",
      "-----------------------------------------------------------------------------------------------------------\n",
      "\n"
     ]
    }
   ],
   "source": [
    "df_kafka.show()"
   ]
  },
  {
   "cell_type": "code",
   "execution_count": 6,
   "id": "c6299049-0076-4637-9315-486c4ee88b09",
   "metadata": {},
   "outputs": [
    {
     "data": {
      "text/plain": [
       "{'queries': ['SELECT  *  FROM (SQLSAWIN_DBO_PERSONA_1663494945)'],\n",
       " 'post_actions': []}"
      ]
     },
     "execution_count": 6,
     "metadata": {},
     "output_type": "execute_result"
    }
   ],
   "source": [
    "df_kafka.queries"
   ]
  },
  {
   "cell_type": "code",
   "execution_count": 13,
   "id": "f13bc6f5-d447-4dfb-85a2-edff375389b5",
   "metadata": {},
   "outputs": [],
   "source": [
    "df_message = session.table('SQLSAWIN_DBO_PERSONA_1663494945').select(col(\"RECORD_CONTENT\"))"
   ]
  },
  {
   "cell_type": "code",
   "execution_count": 23,
   "id": "abf43912-531c-47b2-b631-7f2acc4baf47",
   "metadata": {},
   "outputs": [
    {
     "name": "stdout",
     "output_type": "stream",
     "text": [
      "12\n"
     ]
    }
   ],
   "source": [
    "print(df_message.count())"
   ]
  },
  {
   "cell_type": "code",
   "execution_count": 26,
   "id": "b0826f3c-c3db-408d-9bb2-208aa7485654",
   "metadata": {},
   "outputs": [],
   "source": [
    "df_pandas = df_message.to_pandas()"
   ]
  },
  {
   "cell_type": "code",
   "execution_count": 31,
   "id": "96dc53e3-09c9-4d8c-8ee2-8dcfce9c9809",
   "metadata": {},
   "outputs": [
    {
     "data": {
      "text/plain": [
       "{'RECORD_CONTENT': 2    {\\n  \"payload\": {\\n    \"after\": {\\n      \"id\":...\n",
       " Name: RECORD_CONTENT, dtype: object}"
      ]
     },
     "execution_count": 31,
     "metadata": {},
     "output_type": "execute_result"
    }
   ],
   "source": [
    "dict(df_pandas.iloc[[2]])"
   ]
  },
  {
   "cell_type": "code",
   "execution_count": 32,
   "id": "4fb2c059-853d-46dc-a23d-113b13434b3f",
   "metadata": {},
   "outputs": [],
   "source": [
    "session.close()"
   ]
  }
 ],
 "metadata": {
  "kernelspec": {
   "display_name": "getting_started_snowpark_python",
   "language": "python",
   "name": "getting_started_snowpark_python"
  },
  "language_info": {
   "codemirror_mode": {
    "name": "ipython",
    "version": 3
   },
   "file_extension": ".py",
   "mimetype": "text/x-python",
   "name": "python",
   "nbconvert_exporter": "python",
   "pygments_lexer": "ipython3",
   "version": "3.8.13"
  }
 },
 "nbformat": 4,
 "nbformat_minor": 5
}
